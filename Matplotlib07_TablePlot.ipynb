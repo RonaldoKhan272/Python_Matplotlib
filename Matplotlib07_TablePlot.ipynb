{
 "cells": [
  {
   "cell_type": "markdown",
   "id": "0b305259",
   "metadata": {},
   "source": [
    "# Pengenalan Matplotlib - 07"
   ]
  },
  {
   "cell_type": "markdown",
   "id": "b2ac13a8",
   "metadata": {},
   "source": [
    "# Table Plot / Table Chart"
   ]
  },
  {
   "cell_type": "code",
   "execution_count": 2,
   "id": "8839bbe2",
   "metadata": {},
   "outputs": [],
   "source": [
    "%matplotlib inline"
   ]
  },
  {
   "cell_type": "code",
   "execution_count": 3,
   "id": "9abaa02f",
   "metadata": {},
   "outputs": [
    {
     "name": "stdout",
     "output_type": "stream",
     "text": [
      "3.3.4\n",
      "1.20.1\n"
     ]
    }
   ],
   "source": [
    "import matplotlib\n",
    "import matplotlib.pyplot as plt\n",
    "import numpy as np\n",
    "\n",
    "print(matplotlib.__version__)\n",
    "print(np.__version__)"
   ]
  },
  {
   "cell_type": "markdown",
   "id": "d7b61a71",
   "metadata": {},
   "source": [
    "# Sample Data"
   ]
  },
  {
   "cell_type": "code",
   "execution_count": 4,
   "id": "bb5d5378",
   "metadata": {},
   "outputs": [],
   "source": [
    "data_uas=[\n",
    "    ['Bejo', 70],\n",
    "    ['Tejo', 83],\n",
    "    ['Cecep', 62],\n",
    "    ['wati', 74],\n",
    "    ['Karti', 71]\n",
    "]"
   ]
  },
  {
   "cell_type": "code",
   "execution_count": 5,
   "id": "0429af9c",
   "metadata": {},
   "outputs": [
    {
     "data": {
      "text/plain": [
       "[['Bejo', 70], ['Tejo', 83], ['Cecep', 62], ['wati', 74], ['Karti', 71]]"
      ]
     },
     "execution_count": 5,
     "metadata": {},
     "output_type": "execute_result"
    }
   ],
   "source": [
    "data_uas"
   ]
  },
  {
   "cell_type": "markdown",
   "id": "c24ba742",
   "metadata": {},
   "source": [
    "# Tablet Plot"
   ]
  },
  {
   "cell_type": "markdown",
   "id": "8dd1164f",
   "metadata": {},
   "source": [
    "# 1. Object Oriented Style"
   ]
  },
  {
   "cell_type": "code",
   "execution_count": 12,
   "id": "5a4ab665",
   "metadata": {},
   "outputs": [
    {
     "data": {
      "image/png": "[encoded data removed]",
      "text/plain": [
       "<Figure size 432x288 with 1 Axes>"
      ]
     },
     "metadata": {
      "needs_background": "light"
     },
     "output_type": "display_data"
    }
   ],
   "source": [
    "fig, ax = plt.subplots()\n",
    "\n",
    "table = plt.table(cellText=data_uas,\n",
    "                 loc='center')\n",
    "\n",
    "table.set_fontsize(14)\n",
    "table.scale(0.5, 2) #ukuran kolom dan baris\n",
    "\n",
    "ax.axis(False)\n",
    "\n",
    "plt.show()"
   ]
  },
  {
   "cell_type": "markdown",
   "id": "07c41ea8",
   "metadata": {},
   "source": [
    "# 2. Pyplot Style"
   ]
  },
  {
   "cell_type": "code",
   "execution_count": 13,
   "id": "19b42fea",
   "metadata": {},
   "outputs": [
    {
     "data": {
      "image/png": "[encoded data removed]",
      "text/plain": [
       "<Figure size 432x288 with 1 Axes>"
      ]
     },
     "metadata": {
      "needs_background": "light"
     },
     "output_type": "display_data"
    }
   ],
   "source": [
    "table = plt.table(cellText=data_uas,\n",
    "                 loc='center')\n",
    "\n",
    "table.set_fontsize(14)\n",
    "table.scale(1,4)\n",
    "\n",
    "ax = plt.gca()\n",
    "ax.axis(False)\n",
    "\n",
    "plt.show()"
   ]
  },
  {
   "cell_type": "code",
   "execution_count": null,
   "id": "6e642ffc",
   "metadata": {},
   "outputs": [],
   "source": []
  }
 ],
 "metadata": {
  "kernelspec": {
   "display_name": "Python 3",
   "language": "python",
   "name": "python3"
  },
  "language_info": {
   "codemirror_mode": {
    "name": "ipython",
    "version": 3
   },
   "file_extension": ".py",
   "mimetype": "text/x-python",
   "name": "python",
   "nbconvert_exporter": "python",
   "pygments_lexer": "ipython3",
   "version": "3.8.8"
  }
 },
 "nbformat": 4,
 "nbformat_minor": 5
}
